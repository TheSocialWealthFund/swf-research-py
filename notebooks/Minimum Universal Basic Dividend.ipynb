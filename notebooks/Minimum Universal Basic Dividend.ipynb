{
 "cells": [
  {
   "cell_type": "markdown",
   "metadata": {
    "collapsed": true
   },
   "source": [
    "# Minimum Universal Basic Dividend"
   ]
  },
  {
   "cell_type": "code",
   "execution_count": 19,
   "metadata": {},
   "outputs": [],
   "source": [
    "# Imports\n",
    "\n",
    "from IPython.display import display, HTML\n",
    "\n",
    "import matplotlib.pyplot as plt\n",
    "import numpy as np\n",
    "import pandas as pd\n",
    "\n",
    "from datapackage import Package\n",
    "from tableschema import Storage\n",
    "\n",
    "from swf.datapackage import load\n"
   ]
  },
  {
   "cell_type": "code",
   "execution_count": 18,
   "metadata": {},
   "outputs": [],
   "source": [
    "def get_poverty_levels():\n",
    "    df = pd.DataFrame({\n",
    "        'household_size': [1, 2, 3, 4, 5, 6, 7, 8],\n",
    "        'income_poverty_level': [12060, 16240, 20420, 24600, 28780, 32960, 37140, 41320]\n",
    "    })\n",
    "    \n",
    "    return df\n",
    "\n",
    "def get_distribution(df, column, quantiles=100):\n",
    "    real_column = 'real_{}'.format(column)\n",
    "    real_column_pct = 'real_{}_pct'.format(column)\n",
    "    \n",
    "    pdf = df[[column, 'wgt']].copy()\n",
    "    pdf[real_column] = pdf[column] * pdf['wgt']\n",
    "    pdf[real_column_pct] = (pdf[real_column] / pdf[real_column].sum() * 100)\n",
    "    pdf.sort_values(column, inplace=True)\n",
    "\n",
    "    pdf['population_pct'] = (pdf.wgt.cumsum() / pdf.wgt.sum() * 100)\n",
    "    pdf['quantile'] = pd.cut(pdf['population_pct'].values, quantiles, labels=False) + 1\n",
    "    pdf = pdf.groupby('quantile')[[real_column_pct]].sum()\n",
    "    \n",
    "    return pdf\n",
    "    "
   ]
  },
  {
   "cell_type": "code",
   "execution_count": 7,
   "metadata": {},
   "outputs": [
    {
     "name": "stdout",
     "output_type": "stream",
     "text": [
      "31240\n"
     ]
    },
    {
     "data": {
      "text/html": [
       "<div>\n",
       "<style scoped>\n",
       "    .dataframe tbody tr th:only-of-type {\n",
       "        vertical-align: middle;\n",
       "    }\n",
       "\n",
       "    .dataframe tbody tr th {\n",
       "        vertical-align: top;\n",
       "    }\n",
       "\n",
       "    .dataframe thead th {\n",
       "        text-align: right;\n",
       "    }\n",
       "</style>\n",
       "<table border=\"1\" class=\"dataframe\">\n",
       "  <thead>\n",
       "    <tr style=\"text-align: right;\">\n",
       "      <th></th>\n",
       "      <th>YY1</th>\n",
       "      <th>wgt</th>\n",
       "      <th>hhsex</th>\n",
       "      <th>age</th>\n",
       "      <th>agecl</th>\n",
       "      <th>educ</th>\n",
       "      <th>edcl</th>\n",
       "      <th>married</th>\n",
       "      <th>kids</th>\n",
       "      <th>lf</th>\n",
       "      <th>...</th>\n",
       "      <th>LLOAN11</th>\n",
       "      <th>LLOAN12</th>\n",
       "      <th>nwcat</th>\n",
       "      <th>inccat</th>\n",
       "      <th>assetcat</th>\n",
       "      <th>ninccat</th>\n",
       "      <th>NINC2CAT</th>\n",
       "      <th>nwpctlecat</th>\n",
       "      <th>incpctlecat</th>\n",
       "      <th>nincpctlecat</th>\n",
       "    </tr>\n",
       "    <tr>\n",
       "      <th>Y1</th>\n",
       "      <th></th>\n",
       "      <th></th>\n",
       "      <th></th>\n",
       "      <th></th>\n",
       "      <th></th>\n",
       "      <th></th>\n",
       "      <th></th>\n",
       "      <th></th>\n",
       "      <th></th>\n",
       "      <th></th>\n",
       "      <th></th>\n",
       "      <th></th>\n",
       "      <th></th>\n",
       "      <th></th>\n",
       "      <th></th>\n",
       "      <th></th>\n",
       "      <th></th>\n",
       "      <th></th>\n",
       "      <th></th>\n",
       "      <th></th>\n",
       "      <th></th>\n",
       "    </tr>\n",
       "  </thead>\n",
       "  <tbody>\n",
       "    <tr>\n",
       "      <th>11</th>\n",
       "      <td>1</td>\n",
       "      <td>6427.136676</td>\n",
       "      <td>2</td>\n",
       "      <td>71</td>\n",
       "      <td>5</td>\n",
       "      <td>10</td>\n",
       "      <td>3</td>\n",
       "      <td>2</td>\n",
       "      <td>0</td>\n",
       "      <td>0</td>\n",
       "      <td>...</td>\n",
       "      <td>0</td>\n",
       "      <td>0</td>\n",
       "      <td>3</td>\n",
       "      <td>1</td>\n",
       "      <td>3</td>\n",
       "      <td>1</td>\n",
       "      <td>1</td>\n",
       "      <td>7</td>\n",
       "      <td>1</td>\n",
       "      <td>1</td>\n",
       "    </tr>\n",
       "    <tr>\n",
       "      <th>12</th>\n",
       "      <td>1</td>\n",
       "      <td>6428.350592</td>\n",
       "      <td>2</td>\n",
       "      <td>71</td>\n",
       "      <td>5</td>\n",
       "      <td>10</td>\n",
       "      <td>3</td>\n",
       "      <td>2</td>\n",
       "      <td>0</td>\n",
       "      <td>0</td>\n",
       "      <td>...</td>\n",
       "      <td>0</td>\n",
       "      <td>0</td>\n",
       "      <td>3</td>\n",
       "      <td>1</td>\n",
       "      <td>3</td>\n",
       "      <td>1</td>\n",
       "      <td>1</td>\n",
       "      <td>7</td>\n",
       "      <td>1</td>\n",
       "      <td>1</td>\n",
       "    </tr>\n",
       "    <tr>\n",
       "      <th>13</th>\n",
       "      <td>1</td>\n",
       "      <td>6414.477294</td>\n",
       "      <td>2</td>\n",
       "      <td>71</td>\n",
       "      <td>5</td>\n",
       "      <td>10</td>\n",
       "      <td>3</td>\n",
       "      <td>2</td>\n",
       "      <td>0</td>\n",
       "      <td>0</td>\n",
       "      <td>...</td>\n",
       "      <td>0</td>\n",
       "      <td>0</td>\n",
       "      <td>3</td>\n",
       "      <td>1</td>\n",
       "      <td>3</td>\n",
       "      <td>1</td>\n",
       "      <td>1</td>\n",
       "      <td>7</td>\n",
       "      <td>1</td>\n",
       "      <td>1</td>\n",
       "    </tr>\n",
       "    <tr>\n",
       "      <th>14</th>\n",
       "      <td>1</td>\n",
       "      <td>6428.487972</td>\n",
       "      <td>2</td>\n",
       "      <td>71</td>\n",
       "      <td>5</td>\n",
       "      <td>10</td>\n",
       "      <td>3</td>\n",
       "      <td>2</td>\n",
       "      <td>0</td>\n",
       "      <td>0</td>\n",
       "      <td>...</td>\n",
       "      <td>0</td>\n",
       "      <td>0</td>\n",
       "      <td>3</td>\n",
       "      <td>1</td>\n",
       "      <td>3</td>\n",
       "      <td>1</td>\n",
       "      <td>1</td>\n",
       "      <td>7</td>\n",
       "      <td>1</td>\n",
       "      <td>1</td>\n",
       "    </tr>\n",
       "    <tr>\n",
       "      <th>15</th>\n",
       "      <td>1</td>\n",
       "      <td>6425.256822</td>\n",
       "      <td>2</td>\n",
       "      <td>71</td>\n",
       "      <td>5</td>\n",
       "      <td>10</td>\n",
       "      <td>3</td>\n",
       "      <td>2</td>\n",
       "      <td>0</td>\n",
       "      <td>0</td>\n",
       "      <td>...</td>\n",
       "      <td>0</td>\n",
       "      <td>0</td>\n",
       "      <td>3</td>\n",
       "      <td>1</td>\n",
       "      <td>3</td>\n",
       "      <td>1</td>\n",
       "      <td>1</td>\n",
       "      <td>7</td>\n",
       "      <td>1</td>\n",
       "      <td>1</td>\n",
       "    </tr>\n",
       "  </tbody>\n",
       "</table>\n",
       "<p>5 rows × 347 columns</p>\n",
       "</div>"
      ],
      "text/plain": [
       "    YY1          wgt  hhsex  age  agecl  educ  edcl  married  kids  lf  \\\n",
       "Y1                                                                       \n",
       "11    1  6427.136676      2   71      5    10     3        2     0   0   \n",
       "12    1  6428.350592      2   71      5    10     3        2     0   0   \n",
       "13    1  6414.477294      2   71      5    10     3        2     0   0   \n",
       "14    1  6428.487972      2   71      5    10     3        2     0   0   \n",
       "15    1  6425.256822      2   71      5    10     3        2     0   0   \n",
       "\n",
       "        ...       LLOAN11  LLOAN12  nwcat  inccat  assetcat  ninccat  \\\n",
       "Y1      ...                                                            \n",
       "11      ...             0        0      3       1         3        1   \n",
       "12      ...             0        0      3       1         3        1   \n",
       "13      ...             0        0      3       1         3        1   \n",
       "14      ...             0        0      3       1         3        1   \n",
       "15      ...             0        0      3       1         3        1   \n",
       "\n",
       "    NINC2CAT  nwpctlecat  incpctlecat  nincpctlecat  \n",
       "Y1                                                   \n",
       "11         1           7            1             1  \n",
       "12         1           7            1             1  \n",
       "13         1           7            1             1  \n",
       "14         1           7            1             1  \n",
       "15         1           7            1             1  \n",
       "\n",
       "[5 rows x 347 columns]"
      ]
     },
     "metadata": {},
     "output_type": "display_data"
    }
   ],
   "source": [
    "# Load the survey data\n",
    "descriptor = 'http://datahub.io/quidproquo/2016-survey-of-consumer-finances-summary-extract/datapackage.json'\n",
    "df = load(descriptor)\n",
    "df.set_index('Y1', inplace=True)\n",
    "df.drop([df.columns[0]], axis=1, inplace=True)\n",
    "print(len(df))\n",
    "display(df.head())\n"
   ]
  },
  {
   "cell_type": "markdown",
   "metadata": {
    "variables": {
     "display(HTML(pldf.to_html(index=False)))": "<table border=\"1\" class=\"dataframe\">\n  <thead>\n    <tr style=\"text-align: right;\">\n      <th>household_size</th>\n      <th>income_poverty_level</th>\n    </tr>\n  </thead>\n  <tbody>\n    <tr>\n      <td>1</td>\n      <td>12060</td>\n    </tr>\n    <tr>\n      <td>2</td>\n      <td>16240</td>\n    </tr>\n    <tr>\n      <td>3</td>\n      <td>20420</td>\n    </tr>\n    <tr>\n      <td>4</td>\n      <td>24600</td>\n    </tr>\n    <tr>\n      <td>5</td>\n      <td>28780</td>\n    </tr>\n    <tr>\n      <td>6</td>\n      <td>32960</td>\n    </tr>\n    <tr>\n      <td>7</td>\n      <td>37140</td>\n    </tr>\n    <tr>\n      <td>8</td>\n      <td>41320</td>\n    </tr>\n  </tbody>\n</table>",
     "display(pldf)": "<div>\n<style scoped>\n    .dataframe tbody tr th:only-of-type {\n        vertical-align: middle;\n    }\n\n    .dataframe tbody tr th {\n        vertical-align: top;\n    }\n\n    .dataframe thead th {\n        text-align: right;\n    }\n</style>\n<table border=\"1\" class=\"dataframe\">\n  <thead>\n    <tr style=\"text-align: right;\">\n      <th></th>\n      <th>household_size</th>\n      <th>income_poverty_level</th>\n    </tr>\n  </thead>\n  <tbody>\n    <tr>\n      <th>0</th>\n      <td>1</td>\n      <td>12060</td>\n    </tr>\n    <tr>\n      <th>1</th>\n      <td>2</td>\n      <td>16240</td>\n    </tr>\n    <tr>\n      <th>2</th>\n      <td>3</td>\n      <td>20420</td>\n    </tr>\n    <tr>\n      <th>3</th>\n      <td>4</td>\n      <td>24600</td>\n    </tr>\n    <tr>\n      <th>4</th>\n      <td>5</td>\n      <td>28780</td>\n    </tr>\n    <tr>\n      <th>5</th>\n      <td>6</td>\n      <td>32960</td>\n    </tr>\n    <tr>\n      <th>6</th>\n      <td>7</td>\n      <td>37140</td>\n    </tr>\n    <tr>\n      <th>7</th>\n      <td>8</td>\n      <td>41320</td>\n    </tr>\n  </tbody>\n</table>\n</div>",
     "display(pldf, index=False)": "<p><strong>TypeError</strong>: publish() got an unexpected keyword argument &#39;index&#39;</p>\n",
     "pldf = get_poverty_levels()": {}
    }
   },
   "source": [
    "## Population Poverty Levels\n",
    "\n",
    "Our first step is to figure out the amount of income that needs to be added to households living below the poverty line in order to bring those households above the povery line. The poverty line is based on the [Federal Poverty Levels](https://www.healthcare.gov/glossary/federal-poverty-level-FPL/) (FPLs) and are as follows:\n",
    "\n",
    "{{pldf = get_poverty_levels()}}\n",
    "{{display(HTML(pldf.to_html(index=False)))}}\n",
    "\n",
    "Since the survey data doesn't contain a column for household size we need to calculate it from existing columns:\n"
   ]
  },
  {
   "cell_type": "code",
   "execution_count": 44,
   "metadata": {},
   "outputs": [],
   "source": [
    "df['household_size'] = 1 + df.kids  # Default each household to one individual\n",
    "df.loc[df['married'] == 1, 'household_size'] += 1  # Add additional individual for married persons\n",
    "# df.loc[df['age'] < 55, 'household_size'] += df.kids  # Add children for households whose head < 55 yrs of age\n",
    "\n",
    "us_pop = 323127513\n",
    "us_hh = 125820000\n",
    "\n",
    "us_pop_est = (df['wgt'] * df['household_size']).sum()\n",
    "us_hh_est = df.wgt.sum()\n",
    "\n",
    "us_pop_est_delta = us_pop - us_pop_est\n",
    "us_hh_est_delta = us_hh - us_hh_est"
   ]
  },
  {
   "cell_type": "markdown",
   "metadata": {
    "variables": {
     "'{0:,.0f}'.format(us_hh)": "125,820,000",
     "'{0:,.0f}'.format(us_hh_est)": "125,981,701",
     "'{0:,.0f}'.format(us_hh_est_delta)": "-161,701",
     "'{0:,.0f}'.format(us_pop)": "323,127,513",
     "'{0:,.0f}'.format(us_pop_est)": "293,492,355",
     "'{0:,.0f}'.format(us_pop_est_delta)": "29,635,158"
    }
   },
   "source": [
    "The survey data contains weightings that extrapolate the true size of the population of households to be {{'{0:,.0f}'.format(us_hh_est)}}, while the census estimates the number to be {{'{0:,.0f}'.format(us_hh)}}; this is off by {{'{0:,.0f}'.format(us_hh_est_delta)}}. Using the newly calculated household sizes, we can now test to see if we are in the neighborhood of the correct estimate for the total U.S. population of {{'{0:,.0f}'.format(us_pop)}}. Our calculation returns {{'{0:,.0f}'.format(us_pop_est)}}, which is off by {{'{0:,.0f}'.format(us_pop_est_delta)}}.\n",
    "\n",
    "Now that we have the poverty levels and the household sizes, we can find all the households that are below the poverty line."
   ]
  },
  {
   "cell_type": "code",
   "execution_count": 46,
   "metadata": {},
   "outputs": [],
   "source": [
    "pvdf = df[['wgt', 'income', 'age', 'household_size']].copy()\n",
    "pvdf['household_size'] = pvdf.household_size.clip(1, 8)\n",
    "pvdf = pvdf.join(pldf, on='household_size', how='inner', rsuffix='_pl')\n",
    "pvdf = pvdf[pvdf.income < pvdf.income_poverty_level]\n",
    "pvdf.drop(['household_size_pl'], axis=1, inplace=True)\n",
    "\n",
    "pov_hh_est = pvdf.wgt.sum()"
   ]
  },
  {
   "cell_type": "markdown",
   "metadata": {
    "variables": {
     "'{0:,.0f}'.format(pov_hh_est)": "21,598,863",
     "'{0:,.2f}'.format(pov_hh_est/us_hh_est*100)": "17.14"
    }
   },
   "source": [
    "We estimate the number of households to be in poverty to be {{'{0:,.0f}'.format(pov_hh_est)}}, or about {{'{0:,.2f}'.format(pov_hh_est/us_hh_est*100)}}%.\n",
    "\n",
    "Now that we have all the households that are below the poverty line, we can calculate the total amount of income we would need to add to those households to bring them above the poverty line."
   ]
  },
  {
   "cell_type": "code",
   "execution_count": 48,
   "metadata": {},
   "outputs": [
    {
     "name": "stdout",
     "output_type": "stream",
     "text": [
      "$148,667,342,693.46\n"
     ]
    }
   ],
   "source": [
    "pov_ubd = ((pvdf.income_poverty_level - pvdf.income) * pvdf.wgt).sum()\n",
    "print('${0:,.2f}'.format(pov_ubd))"
   ]
  },
  {
   "cell_type": "markdown",
   "metadata": {},
   "source": [
    "## U.S. Income Distribution"
   ]
  },
  {
   "cell_type": "code",
   "execution_count": 106,
   "metadata": {},
   "outputs": [
    {
     "data": {
      "text/html": [
       "<div>\n",
       "<style scoped>\n",
       "    .dataframe tbody tr th:only-of-type {\n",
       "        vertical-align: middle;\n",
       "    }\n",
       "\n",
       "    .dataframe tbody tr th {\n",
       "        vertical-align: top;\n",
       "    }\n",
       "\n",
       "    .dataframe thead th {\n",
       "        text-align: right;\n",
       "    }\n",
       "</style>\n",
       "<table border=\"1\" class=\"dataframe\">\n",
       "  <thead>\n",
       "    <tr style=\"text-align: right;\">\n",
       "      <th></th>\n",
       "      <th>real_income_pct</th>\n",
       "    </tr>\n",
       "    <tr>\n",
       "      <th>quantile</th>\n",
       "      <th></th>\n",
       "    </tr>\n",
       "  </thead>\n",
       "  <tbody>\n",
       "    <tr>\n",
       "      <th>96</th>\n",
       "      <td>2.804532</td>\n",
       "    </tr>\n",
       "    <tr>\n",
       "      <th>97</th>\n",
       "      <td>3.263355</td>\n",
       "    </tr>\n",
       "    <tr>\n",
       "      <th>98</th>\n",
       "      <td>4.000630</td>\n",
       "    </tr>\n",
       "    <tr>\n",
       "      <th>99</th>\n",
       "      <td>6.139643</td>\n",
       "    </tr>\n",
       "    <tr>\n",
       "      <th>100</th>\n",
       "      <td>23.373569</td>\n",
       "    </tr>\n",
       "  </tbody>\n",
       "</table>\n",
       "</div>"
      ],
      "text/plain": [
       "          real_income_pct\n",
       "quantile                 \n",
       "96               2.804532\n",
       "97               3.263355\n",
       "98               4.000630\n",
       "99               6.139643\n",
       "100             23.373569"
      ]
     },
     "metadata": {},
     "output_type": "display_data"
    }
   ],
   "source": [
    "ipdf = get_distribution(df, 'income')\n",
    "display(ipdf.tail())"
   ]
  },
  {
   "cell_type": "code",
   "execution_count": 107,
   "metadata": {},
   "outputs": [
    {
     "data": {
      "image/png": "[encoded data removed]",
      "text/plain": [
       "<matplotlib.figure.Figure at 0x12f5eb588>"
      ]
     },
     "metadata": {},
     "output_type": "display_data"
    }
   ],
   "source": [
    "bins = np.linspace(1, 100, 100)\n",
    "\n",
    "plt.figure(figsize=(16,8))\n",
    "plt.bar(ipdf.index, idf['real_income_pct'])\n",
    "plt.title(\"U.S. Income Distribution\")\n",
    "plt.xlabel(\"Percentile\")\n",
    "plt.ylabel(\"Income (Percent of Total)\")\n",
    "plt.show()"
   ]
  },
  {
   "cell_type": "code",
   "execution_count": 122,
   "metadata": {},
   "outputs": [
    {
     "data": {
      "text/html": [
       "<div>\n",
       "<style scoped>\n",
       "    .dataframe tbody tr th:only-of-type {\n",
       "        vertical-align: middle;\n",
       "    }\n",
       "\n",
       "    .dataframe tbody tr th {\n",
       "        vertical-align: top;\n",
       "    }\n",
       "\n",
       "    .dataframe thead th {\n",
       "        text-align: right;\n",
       "    }\n",
       "</style>\n",
       "<table border=\"1\" class=\"dataframe\">\n",
       "  <thead>\n",
       "    <tr style=\"text-align: right;\">\n",
       "      <th></th>\n",
       "      <th>real_income_pct</th>\n",
       "    </tr>\n",
       "    <tr>\n",
       "      <th>quantile</th>\n",
       "      <th></th>\n",
       "    </tr>\n",
       "  </thead>\n",
       "  <tbody>\n",
       "    <tr>\n",
       "      <th>1.0</th>\n",
       "      <td>19.471875</td>\n",
       "    </tr>\n",
       "    <tr>\n",
       "      <th>2.0</th>\n",
       "      <td>17.094793</td>\n",
       "    </tr>\n",
       "    <tr>\n",
       "      <th>3.0</th>\n",
       "      <td>13.565319</td>\n",
       "    </tr>\n",
       "    <tr>\n",
       "      <th>4.0</th>\n",
       "      <td>10.286283</td>\n",
       "    </tr>\n",
       "    <tr>\n",
       "      <th>5.0</th>\n",
       "      <td>16.208160</td>\n",
       "    </tr>\n",
       "    <tr>\n",
       "      <th>6.0</th>\n",
       "      <td>23.353810</td>\n",
       "    </tr>\n",
       "  </tbody>\n",
       "</table>\n",
       "</div>"
      ],
      "text/plain": [
       "          real_income_pct\n",
       "quantile                 \n",
       "1.0             19.471875\n",
       "2.0             17.094793\n",
       "3.0             13.565319\n",
       "4.0             10.286283\n",
       "5.0             16.208160\n",
       "6.0             23.353810"
      ]
     },
     "metadata": {},
     "output_type": "display_data"
    }
   ],
   "source": [
    "ipdf2 = get_distribution(df, 'income', quantiles=[0, 60, 80, 90, 95, 99, 100])\n",
    "display(ipdf2)"
   ]
  },
  {
   "cell_type": "code",
   "execution_count": 123,
   "metadata": {},
   "outputs": [
    {
     "data": {
      "image/png": "[encoded data removed]",
      "text/plain": [
       "<matplotlib.figure.Figure at 0x12f5f4470>"
      ]
     },
     "metadata": {},
     "output_type": "display_data"
    }
   ],
   "source": [
    "plt.figure(figsize=(8,8))\n",
    "plt.pie(ipdf2['real_income_pct'])\n",
    "plt.title(\"U.S. Income Distribution\")\n",
    "plt.xlabel(\"Income (Percentage of Total)\")\n",
    "plt.show()"
   ]
  },
  {
   "cell_type": "markdown",
   "metadata": {},
   "source": [
    "# U.S. Wealth Distribution"
   ]
  },
  {
   "cell_type": "code",
   "execution_count": 110,
   "metadata": {},
   "outputs": [
    {
     "data": {
      "text/html": [
       "<div>\n",
       "<style scoped>\n",
       "    .dataframe tbody tr th:only-of-type {\n",
       "        vertical-align: middle;\n",
       "    }\n",
       "\n",
       "    .dataframe tbody tr th {\n",
       "        vertical-align: top;\n",
       "    }\n",
       "\n",
       "    .dataframe thead th {\n",
       "        text-align: right;\n",
       "    }\n",
       "</style>\n",
       "<table border=\"1\" class=\"dataframe\">\n",
       "  <thead>\n",
       "    <tr style=\"text-align: right;\">\n",
       "      <th></th>\n",
       "      <th>real_networth_pct</th>\n",
       "    </tr>\n",
       "    <tr>\n",
       "      <th>quantile</th>\n",
       "      <th></th>\n",
       "    </tr>\n",
       "  </thead>\n",
       "  <tbody>\n",
       "    <tr>\n",
       "      <th>96</th>\n",
       "      <td>3.741925</td>\n",
       "    </tr>\n",
       "    <tr>\n",
       "      <th>97</th>\n",
       "      <td>4.650510</td>\n",
       "    </tr>\n",
       "    <tr>\n",
       "      <th>98</th>\n",
       "      <td>6.724065</td>\n",
       "    </tr>\n",
       "    <tr>\n",
       "      <th>99</th>\n",
       "      <td>11.437424</td>\n",
       "    </tr>\n",
       "    <tr>\n",
       "      <th>100</th>\n",
       "      <td>38.563787</td>\n",
       "    </tr>\n",
       "  </tbody>\n",
       "</table>\n",
       "</div>"
      ],
      "text/plain": [
       "          real_networth_pct\n",
       "quantile                   \n",
       "96                 3.741925\n",
       "97                 4.650510\n",
       "98                 6.724065\n",
       "99                11.437424\n",
       "100               38.563787"
      ]
     },
     "metadata": {},
     "output_type": "display_data"
    }
   ],
   "source": [
    "wpdf = get_distribution(df, 'networth')\n",
    "display(wpdf.tail())\n"
   ]
  },
  {
   "cell_type": "code",
   "execution_count": 111,
   "metadata": {},
   "outputs": [
    {
     "data": {
      "image/png": "[encoded data removed]",
      "text/plain": [
       "<matplotlib.figure.Figure at 0x12b5da668>"
      ]
     },
     "metadata": {},
     "output_type": "display_data"
    }
   ],
   "source": [
    "bins = np.linspace(1, 100, 100)\n",
    "\n",
    "plt.figure(figsize=(16,8))\n",
    "plt.bar(wpdf.index, wpdf['real_networth_pct'])\n",
    "plt.title(\"U.S. Wealth Distribution\")\n",
    "plt.xlabel(\"Percentile\")\n",
    "plt.ylabel(\"Net Worth (Percentage of Total)\")\n",
    "plt.show()"
   ]
  },
  {
   "cell_type": "code",
   "execution_count": 120,
   "metadata": {},
   "outputs": [
    {
     "data": {
      "text/html": [
       "<div>\n",
       "<style scoped>\n",
       "    .dataframe tbody tr th:only-of-type {\n",
       "        vertical-align: middle;\n",
       "    }\n",
       "\n",
       "    .dataframe tbody tr th {\n",
       "        vertical-align: top;\n",
       "    }\n",
       "\n",
       "    .dataframe thead th {\n",
       "        text-align: right;\n",
       "    }\n",
       "</style>\n",
       "<table border=\"1\" class=\"dataframe\">\n",
       "  <thead>\n",
       "    <tr style=\"text-align: right;\">\n",
       "      <th></th>\n",
       "      <th>real_networth_pct</th>\n",
       "    </tr>\n",
       "    <tr>\n",
       "      <th>quantile</th>\n",
       "      <th></th>\n",
       "    </tr>\n",
       "  </thead>\n",
       "  <tbody>\n",
       "    <tr>\n",
       "      <th>1.0</th>\n",
       "      <td>3.066449</td>\n",
       "    </tr>\n",
       "    <tr>\n",
       "      <th>2.0</th>\n",
       "      <td>8.642318</td>\n",
       "    </tr>\n",
       "    <tr>\n",
       "      <th>3.0</th>\n",
       "      <td>11.213896</td>\n",
       "    </tr>\n",
       "    <tr>\n",
       "      <th>4.0</th>\n",
       "      <td>11.959626</td>\n",
       "    </tr>\n",
       "    <tr>\n",
       "      <th>5.0</th>\n",
       "      <td>26.553925</td>\n",
       "    </tr>\n",
       "    <tr>\n",
       "      <th>6.0</th>\n",
       "      <td>38.558681</td>\n",
       "    </tr>\n",
       "  </tbody>\n",
       "</table>\n",
       "</div>"
      ],
      "text/plain": [
       "          real_networth_pct\n",
       "quantile                   \n",
       "1.0                3.066449\n",
       "2.0                8.642318\n",
       "3.0               11.213896\n",
       "4.0               11.959626\n",
       "5.0               26.553925\n",
       "6.0               38.558681"
      ]
     },
     "metadata": {},
     "output_type": "display_data"
    }
   ],
   "source": [
    "wpdf2 = get_distribution(df, 'networth', quantiles=[0, 60, 80, 90, 95, 99, 100])\n",
    "display(wpdf2)"
   ]
  },
  {
   "cell_type": "code",
   "execution_count": 121,
   "metadata": {},
   "outputs": [
    {
     "data": {
      "image/png": "[encoded data removed]",
      "text/plain": [
       "<matplotlib.figure.Figure at 0x12f573828>"
      ]
     },
     "metadata": {},
     "output_type": "display_data"
    }
   ],
   "source": [
    "plt.figure(figsize=(8,8))\n",
    "plt.pie(wpdf2['real_networth_pct'])\n",
    "plt.title(\"U.S. Wealth Distribution\")\n",
    "plt.xlabel(\"Net Worth (Percentage of Total)\")\n",
    "plt.show()"
   ]
  },
  {
   "cell_type": "code",
   "execution_count": null,
   "metadata": {},
   "outputs": [],
   "source": []
  }
 ],
 "metadata": {
  "kernelspec": {
   "display_name": "Python 3",
   "language": "python",
   "name": "python3"
  },
  "language_info": {
   "codemirror_mode": {
    "name": "ipython",
    "version": 3
   },
   "file_extension": ".py",
   "mimetype": "text/x-python",
   "name": "python",
   "nbconvert_exporter": "python",
   "pygments_lexer": "ipython3",
   "version": "3.5.0"
  }
 },
 "nbformat": 4,
 "nbformat_minor": 1
}
