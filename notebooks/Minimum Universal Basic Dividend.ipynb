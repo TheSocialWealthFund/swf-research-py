{
 "cells": [
  {
   "cell_type": "markdown",
   "metadata": {
    "collapsed": true
   },
   "source": [
    "# Minimum Universal Basic Dividend"
   ]
  },
  {
   "cell_type": "code",
   "execution_count": 69,
   "metadata": {},
   "outputs": [],
   "source": [
    "# Imports\n",
    "\n",
    "from IPython.display import display, HTML\n",
    "\n",
    "import humanize as h\n",
    "import math\n",
    "import matplotlib.pyplot as plt\n",
    "import numpy as np\n",
    "import pandas as pd\n",
    "\n",
    "from swf.datapackage import load\n"
   ]
  },
  {
   "cell_type": "code",
   "execution_count": 70,
   "metadata": {},
   "outputs": [],
   "source": [
    "def h_format(value, format='%.1f'):\n",
    "    if len(str(abs(int(value)))) < 7:\n",
    "        return h.intcomma(value)\n",
    "    else:\n",
    "        return h.intword(value, format)\n",
    "\n",
    "def get_poverty_levels():\n",
    "    df = pd.DataFrame({\n",
    "        'household_size': [1, 2, 3, 4, 5, 6, 7, 8],\n",
    "        'income_poverty_level': [12060, 16240, 20420, 24600, 28780, 32960, 37140, 41320]\n",
    "    })\n",
    "    \n",
    "    return df\n",
    "\n",
    "def get_distribution(df, column, quantiles=100):\n",
    "    real_column = 'real_{}'.format(column)\n",
    "    real_column_pct = 'real_{}_pct'.format(column)\n",
    "    \n",
    "    pdf = df[[column, 'wgt']].copy()\n",
    "    pdf[real_column] = pdf[column] * pdf['wgt']\n",
    "    pdf[real_column_pct] = (pdf[real_column] / pdf[real_column].sum() * 100)\n",
    "    pdf.sort_values(column, inplace=True)\n",
    "\n",
    "    pdf['population_pct'] = (pdf.wgt.cumsum() / pdf.wgt.sum() * 100)\n",
    "    pdf['quantile'] = pd.cut(pdf['population_pct'].values, quantiles, labels=False) + 1\n",
    "    pdf = pdf.groupby('quantile')[[real_column_pct]].sum()\n",
    "    \n",
    "    return pdf\n",
    "    "
   ]
  },
  {
   "cell_type": "code",
   "execution_count": 71,
   "metadata": {},
   "outputs": [
    {
     "name": "stdout",
     "output_type": "stream",
     "text": [
      "31240\n"
     ]
    },
    {
     "data": {
      "text/html": [
       "<div>\n",
       "<style scoped>\n",
       "    .dataframe tbody tr th:only-of-type {\n",
       "        vertical-align: middle;\n",
       "    }\n",
       "\n",
       "    .dataframe tbody tr th {\n",
       "        vertical-align: top;\n",
       "    }\n",
       "\n",
       "    .dataframe thead th {\n",
       "        text-align: right;\n",
       "    }\n",
       "</style>\n",
       "<table border=\"1\" class=\"dataframe\">\n",
       "  <thead>\n",
       "    <tr style=\"text-align: right;\">\n",
       "      <th></th>\n",
       "      <th>YY1</th>\n",
       "      <th>wgt</th>\n",
       "      <th>hhsex</th>\n",
       "      <th>age</th>\n",
       "      <th>agecl</th>\n",
       "      <th>educ</th>\n",
       "      <th>edcl</th>\n",
       "      <th>married</th>\n",
       "      <th>kids</th>\n",
       "      <th>lf</th>\n",
       "      <th>...</th>\n",
       "      <th>LLOAN11</th>\n",
       "      <th>LLOAN12</th>\n",
       "      <th>nwcat</th>\n",
       "      <th>inccat</th>\n",
       "      <th>assetcat</th>\n",
       "      <th>ninccat</th>\n",
       "      <th>NINC2CAT</th>\n",
       "      <th>nwpctlecat</th>\n",
       "      <th>incpctlecat</th>\n",
       "      <th>nincpctlecat</th>\n",
       "    </tr>\n",
       "    <tr>\n",
       "      <th>Y1</th>\n",
       "      <th></th>\n",
       "      <th></th>\n",
       "      <th></th>\n",
       "      <th></th>\n",
       "      <th></th>\n",
       "      <th></th>\n",
       "      <th></th>\n",
       "      <th></th>\n",
       "      <th></th>\n",
       "      <th></th>\n",
       "      <th></th>\n",
       "      <th></th>\n",
       "      <th></th>\n",
       "      <th></th>\n",
       "      <th></th>\n",
       "      <th></th>\n",
       "      <th></th>\n",
       "      <th></th>\n",
       "      <th></th>\n",
       "      <th></th>\n",
       "      <th></th>\n",
       "    </tr>\n",
       "  </thead>\n",
       "  <tbody>\n",
       "    <tr>\n",
       "      <th>11</th>\n",
       "      <td>1</td>\n",
       "      <td>6427.136676</td>\n",
       "      <td>2</td>\n",
       "      <td>71</td>\n",
       "      <td>5</td>\n",
       "      <td>10</td>\n",
       "      <td>3</td>\n",
       "      <td>2</td>\n",
       "      <td>0</td>\n",
       "      <td>0</td>\n",
       "      <td>...</td>\n",
       "      <td>0</td>\n",
       "      <td>0</td>\n",
       "      <td>3</td>\n",
       "      <td>1</td>\n",
       "      <td>3</td>\n",
       "      <td>1</td>\n",
       "      <td>1</td>\n",
       "      <td>7</td>\n",
       "      <td>1</td>\n",
       "      <td>1</td>\n",
       "    </tr>\n",
       "    <tr>\n",
       "      <th>12</th>\n",
       "      <td>1</td>\n",
       "      <td>6428.350592</td>\n",
       "      <td>2</td>\n",
       "      <td>71</td>\n",
       "      <td>5</td>\n",
       "      <td>10</td>\n",
       "      <td>3</td>\n",
       "      <td>2</td>\n",
       "      <td>0</td>\n",
       "      <td>0</td>\n",
       "      <td>...</td>\n",
       "      <td>0</td>\n",
       "      <td>0</td>\n",
       "      <td>3</td>\n",
       "      <td>1</td>\n",
       "      <td>3</td>\n",
       "      <td>1</td>\n",
       "      <td>1</td>\n",
       "      <td>7</td>\n",
       "      <td>1</td>\n",
       "      <td>1</td>\n",
       "    </tr>\n",
       "    <tr>\n",
       "      <th>13</th>\n",
       "      <td>1</td>\n",
       "      <td>6414.477294</td>\n",
       "      <td>2</td>\n",
       "      <td>71</td>\n",
       "      <td>5</td>\n",
       "      <td>10</td>\n",
       "      <td>3</td>\n",
       "      <td>2</td>\n",
       "      <td>0</td>\n",
       "      <td>0</td>\n",
       "      <td>...</td>\n",
       "      <td>0</td>\n",
       "      <td>0</td>\n",
       "      <td>3</td>\n",
       "      <td>1</td>\n",
       "      <td>3</td>\n",
       "      <td>1</td>\n",
       "      <td>1</td>\n",
       "      <td>7</td>\n",
       "      <td>1</td>\n",
       "      <td>1</td>\n",
       "    </tr>\n",
       "    <tr>\n",
       "      <th>14</th>\n",
       "      <td>1</td>\n",
       "      <td>6428.487972</td>\n",
       "      <td>2</td>\n",
       "      <td>71</td>\n",
       "      <td>5</td>\n",
       "      <td>10</td>\n",
       "      <td>3</td>\n",
       "      <td>2</td>\n",
       "      <td>0</td>\n",
       "      <td>0</td>\n",
       "      <td>...</td>\n",
       "      <td>0</td>\n",
       "      <td>0</td>\n",
       "      <td>3</td>\n",
       "      <td>1</td>\n",
       "      <td>3</td>\n",
       "      <td>1</td>\n",
       "      <td>1</td>\n",
       "      <td>7</td>\n",
       "      <td>1</td>\n",
       "      <td>1</td>\n",
       "    </tr>\n",
       "    <tr>\n",
       "      <th>15</th>\n",
       "      <td>1</td>\n",
       "      <td>6425.256822</td>\n",
       "      <td>2</td>\n",
       "      <td>71</td>\n",
       "      <td>5</td>\n",
       "      <td>10</td>\n",
       "      <td>3</td>\n",
       "      <td>2</td>\n",
       "      <td>0</td>\n",
       "      <td>0</td>\n",
       "      <td>...</td>\n",
       "      <td>0</td>\n",
       "      <td>0</td>\n",
       "      <td>3</td>\n",
       "      <td>1</td>\n",
       "      <td>3</td>\n",
       "      <td>1</td>\n",
       "      <td>1</td>\n",
       "      <td>7</td>\n",
       "      <td>1</td>\n",
       "      <td>1</td>\n",
       "    </tr>\n",
       "  </tbody>\n",
       "</table>\n",
       "<p>5 rows × 347 columns</p>\n",
       "</div>"
      ],
      "text/plain": [
       "    YY1          wgt  hhsex  age  agecl  educ  edcl  married  kids  lf  \\\n",
       "Y1                                                                       \n",
       "11    1  6427.136676      2   71      5    10     3        2     0   0   \n",
       "12    1  6428.350592      2   71      5    10     3        2     0   0   \n",
       "13    1  6414.477294      2   71      5    10     3        2     0   0   \n",
       "14    1  6428.487972      2   71      5    10     3        2     0   0   \n",
       "15    1  6425.256822      2   71      5    10     3        2     0   0   \n",
       "\n",
       "        ...       LLOAN11  LLOAN12  nwcat  inccat  assetcat  ninccat  \\\n",
       "Y1      ...                                                            \n",
       "11      ...             0        0      3       1         3        1   \n",
       "12      ...             0        0      3       1         3        1   \n",
       "13      ...             0        0      3       1         3        1   \n",
       "14      ...             0        0      3       1         3        1   \n",
       "15      ...             0        0      3       1         3        1   \n",
       "\n",
       "    NINC2CAT  nwpctlecat  incpctlecat  nincpctlecat  \n",
       "Y1                                                   \n",
       "11         1           7            1             1  \n",
       "12         1           7            1             1  \n",
       "13         1           7            1             1  \n",
       "14         1           7            1             1  \n",
       "15         1           7            1             1  \n",
       "\n",
       "[5 rows x 347 columns]"
      ]
     },
     "metadata": {},
     "output_type": "display_data"
    }
   ],
   "source": [
    "# Load the survey data\n",
    "descriptor = 'http://datahub.io/quidproquo/2016-survey-of-consumer-finances-summary-extract/datapackage.json'\n",
    "df = load(descriptor)\n",
    "df.set_index('Y1', inplace=True)\n",
    "df.drop([df.columns[0]], axis=1, inplace=True)\n",
    "print(len(df))\n",
    "display(df.head())\n"
   ]
  },
  {
   "cell_type": "markdown",
   "metadata": {
    "variables": {
     "display(HTML(pldf.to_html(index=False)))": "<table border=\"1\" class=\"dataframe\">\n  <thead>\n    <tr style=\"text-align: right;\">\n      <th>household_size</th>\n      <th>income_poverty_level</th>\n    </tr>\n  </thead>\n  <tbody>\n    <tr>\n      <td>1</td>\n      <td>12060</td>\n    </tr>\n    <tr>\n      <td>2</td>\n      <td>16240</td>\n    </tr>\n    <tr>\n      <td>3</td>\n      <td>20420</td>\n    </tr>\n    <tr>\n      <td>4</td>\n      <td>24600</td>\n    </tr>\n    <tr>\n      <td>5</td>\n      <td>28780</td>\n    </tr>\n    <tr>\n      <td>6</td>\n      <td>32960</td>\n    </tr>\n    <tr>\n      <td>7</td>\n      <td>37140</td>\n    </tr>\n    <tr>\n      <td>8</td>\n      <td>41320</td>\n    </tr>\n  </tbody>\n</table>",
     "pldf = get_poverty_levels()": {}
    }
   },
   "source": [
    "## Population Poverty Levels\n",
    "\n",
    "Our first step is to figure out the amount of income that needs to be added to households living below the poverty line in order to bring those households above the povery line. The poverty line is based on the [Federal Poverty Levels](https://www.healthcare.gov/glossary/federal-poverty-level-FPL/) (FPLs) and are as follows:\n",
    "\n",
    "{{pldf = get_poverty_levels()}}\n",
    "{{display(HTML(pldf.to_html(index=False)))}}\n",
    "\n",
    "Since the survey data doesn't contain a column for household size we need to calculate it from existing columns:\n"
   ]
  },
  {
   "cell_type": "code",
   "execution_count": 72,
   "metadata": {},
   "outputs": [],
   "source": [
    "df['household_size'] = 1  # Default each family to one individual\n",
    "df.loc[df['married'] == 1, 'household_size'] += 1  # Add additional individual for married persons\n",
    "df.loc[df['age'] < 55, 'household_size'] += df.kids  # Only add children for households whose head < 55 yrs of age\n",
    "\n",
    "us_pop = 323127513\n",
    "us_hh = 125820000\n",
    "\n",
    "us_pop_est = int((df['wgt'] * df['household_size']).sum())\n",
    "us_hh_est = int(df.wgt.sum())\n",
    "\n",
    "us_pop_est_delta = us_pop - us_pop_est\n",
    "us_hh_est_delta = us_hh - us_hh_est"
   ]
  },
  {
   "cell_type": "markdown",
   "metadata": {
    "variables": {
     "h_format(us_hh)": "125.8 million",
     "h_format(us_hh_est)": "126.0 million",
     "h_format(us_hh_est_delta)": "-161,700",
     "h_format(us_pop)": "323.1 million",
     "h_format(us_pop_est)": "278.5 million",
     "h_format(us_pop_est_delta)": "44.6 million"
    }
   },
   "source": [
    "The survey data contains weightings that extrapolate the true size of the population of households to be **{{h_format(us_hh_est)}}**, while the census estimates the number to be **{{h_format(us_hh)}}**; this is off by **{{h_format(us_hh_est_delta)}}**. Using the newly calculated household sizes, we can now test to see if we are in the neighborhood of the correct estimate for the total U.S. population of **{{h_format(us_pop)}}**. Our calculation returns **{{h_format(us_pop_est)}}**, which is off by **{{h_format(us_pop_est_delta)}}**.\n",
    "\n",
    "Now that we have the poverty levels and the household sizes, we can find all the households that are below the poverty line and calculate the total amount of income we would need to add to those households to bring them above the poverty line."
   ]
  },
  {
   "cell_type": "code",
   "execution_count": 73,
   "metadata": {},
   "outputs": [],
   "source": [
    "pvdf = df[['wgt', 'income', 'age', 'household_size']].copy()\n",
    "pvdf['household_size'] = pvdf.household_size.clip(1, 8)\n",
    "pvdf = pvdf.join(pldf, on='household_size', how='inner', rsuffix='_pl')\n",
    "pvdf = pvdf[pvdf.income < pvdf.income_poverty_level]\n",
    "pvdf.drop(['household_size_pl'], axis=1, inplace=True)\n",
    "\n",
    "pov_hh_est = pvdf.wgt.sum()\n",
    "pov_hh_pct = pov_hh_est/us_hh_est * 100\n",
    "ubd_tot = ((pvdf.income_poverty_level - pvdf.income) * pvdf.wgt).sum()\n",
    "ubd_hh = int(ubd_tot / pov_hh_est)\n"
   ]
  },
  {
   "cell_type": "markdown",
   "metadata": {
    "variables": {
     "'{:.2f}'.format(pov_hh_pct)": "16.53",
     "h_format(pov_hh_est)": "20.8 million",
     "h_format(ubd_hh)": "6,714",
     "h_format(ubd_tot)": "139.8 billion"
    }
   },
   "source": [
    "The estimate of the number of households below the poverty line is **{{h_format(pov_hh_est)}}**, or about **{{'{:.2f}'.format(pov_hh_pct)}}%** of all U.S. households. To bring those households out of poverty, the total amount of income that would have to be added is **\\${{h_format(ubd_tot)}}**, or on average **\\${{h_format(ubd_hh)}}** per household below the poverty line on an annual basis.\n"
   ]
  },
  {
   "cell_type": "code",
   "execution_count": 74,
   "metadata": {},
   "outputs": [],
   "source": [
    "r_rate = 0.05  # Rate of return for the fund\n",
    "fund_size = ubd_tot / r_rate"
   ]
  },
  {
   "cell_type": "markdown",
   "metadata": {
    "variables": {
     "h_format(fund_size)": "2.8 trillion",
     "r_rate*100": "5.0"
    }
   },
   "source": [
    "Now that we know the scope of the problem, we can calculate the optimal size of the Social Wealth Fund if our policy goal were to eliminate poverty in the U.S. Assuming a yield of **{{r_rate*100}}%** the size of the fund would need to be **\\${{h_format(fund_size)}}**."
   ]
  },
  {
   "cell_type": "code",
   "execution_count": null,
   "metadata": {},
   "outputs": [],
   "source": []
  }
 ],
 "metadata": {
  "kernelspec": {
   "display_name": "Python 3",
   "language": "python",
   "name": "python3"
  },
  "language_info": {
   "codemirror_mode": {
    "name": "ipython",
    "version": 3
   },
   "file_extension": ".py",
   "mimetype": "text/x-python",
   "name": "python",
   "nbconvert_exporter": "python",
   "pygments_lexer": "ipython3",
   "version": "3.5.0"
  }
 },
 "nbformat": 4,
 "nbformat_minor": 1
}
