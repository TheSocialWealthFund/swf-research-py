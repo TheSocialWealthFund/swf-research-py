{
 "cells": [
  {
   "cell_type": "markdown",
   "metadata": {
    "collapsed": true
   },
   "source": [
    "# Sizing A U.S. Social Wealth Fund"
   ]
  },
  {
   "cell_type": "code",
   "execution_count": 76,
   "metadata": {},
   "outputs": [],
   "source": [
    "# Imports\n",
    "\n",
    "from IPython.display import display, Markdown\n",
    "\n",
    "import humanize as h\n",
    "import math\n",
    "import matplotlib.pyplot as plt\n",
    "import numpy as np\n",
    "import os\n",
    "import pandas as pd\n",
    "import sys\n",
    "\n",
    "module_path = os.path.abspath(os.path.join('..'))\n",
    "\n",
    "if module_path not in sys.path:\n",
    "    sys.path.append(module_path)\n",
    "\n",
    "from swf.datapackage import load\n"
   ]
  },
  {
   "cell_type": "code",
   "execution_count": 91,
   "metadata": {},
   "outputs": [],
   "source": [
    "POP_WGT_FACTOR = 1 + 1/6\n",
    "\n",
    "def display_m(value):\n",
    "    display(Markdown(value))\n",
    "\n",
    "def h_format(value, format='%.1f'):\n",
    "    if len(str(abs(int(value)))) < 7:\n",
    "        return h.intcomma(value)\n",
    "    else:\n",
    "        return h.intword(value, format)\n",
    "\n",
    "def get_poverty_levels():\n",
    "    df = pd.DataFrame({\n",
    "        'household_size': [1, 2, 3, 4, 5, 6, 7, 8],\n",
    "        'income_poverty_level': [11880, 16020, 20160, 24300, 28440, 32580, 36730, 40890]\n",
    "    })\n",
    "    df.set_index('household_size', inplace=True)\n",
    "    \n",
    "    return df\n",
    "\n",
    "def get_distribution(df, column, quantiles=100):\n",
    "    real_column = 'real_{}'.format(column)\n",
    "    real_column_pct = 'real_{}_pct'.format(column)\n",
    "    \n",
    "    pdf = df[[column, 'wgt']].copy()\n",
    "    pdf[real_column] = pdf[column] * pdf['wgt']\n",
    "    pdf[real_column_pct] = (pdf[real_column] / pdf[real_column].sum() * 100)\n",
    "    pdf.sort_values(column, inplace=True)\n",
    "\n",
    "    pdf['population_pct'] = (pdf.wgt.cumsum() / pdf.wgt.sum() * 100)\n",
    "    pdf['quantile'] = pd.cut(pdf['population_pct'].values, quantiles, labels=False) + 1\n",
    "    pdf = pdf.groupby('quantile')[[real_column_pct]].sum()\n",
    "    \n",
    "    return pdf\n",
    "    "
   ]
  },
  {
   "cell_type": "code",
   "execution_count": 5,
   "metadata": {},
   "outputs": [
    {
     "name": "stdout",
     "output_type": "stream",
     "text": [
      "31240\n"
     ]
    },
    {
     "data": {
      "text/html": [
       "<div>\n",
       "<style scoped>\n",
       "    .dataframe tbody tr th:only-of-type {\n",
       "        vertical-align: middle;\n",
       "    }\n",
       "\n",
       "    .dataframe tbody tr th {\n",
       "        vertical-align: top;\n",
       "    }\n",
       "\n",
       "    .dataframe thead th {\n",
       "        text-align: right;\n",
       "    }\n",
       "</style>\n",
       "<table border=\"1\" class=\"dataframe\">\n",
       "  <thead>\n",
       "    <tr style=\"text-align: right;\">\n",
       "      <th></th>\n",
       "      <th>YY1</th>\n",
       "      <th>wgt</th>\n",
       "      <th>hhsex</th>\n",
       "      <th>age</th>\n",
       "      <th>agecl</th>\n",
       "      <th>educ</th>\n",
       "      <th>edcl</th>\n",
       "      <th>married</th>\n",
       "      <th>kids</th>\n",
       "      <th>lf</th>\n",
       "      <th>...</th>\n",
       "      <th>LLOAN11</th>\n",
       "      <th>LLOAN12</th>\n",
       "      <th>nwcat</th>\n",
       "      <th>inccat</th>\n",
       "      <th>assetcat</th>\n",
       "      <th>ninccat</th>\n",
       "      <th>NINC2CAT</th>\n",
       "      <th>nwpctlecat</th>\n",
       "      <th>incpctlecat</th>\n",
       "      <th>nincpctlecat</th>\n",
       "    </tr>\n",
       "    <tr>\n",
       "      <th>Y1</th>\n",
       "      <th></th>\n",
       "      <th></th>\n",
       "      <th></th>\n",
       "      <th></th>\n",
       "      <th></th>\n",
       "      <th></th>\n",
       "      <th></th>\n",
       "      <th></th>\n",
       "      <th></th>\n",
       "      <th></th>\n",
       "      <th></th>\n",
       "      <th></th>\n",
       "      <th></th>\n",
       "      <th></th>\n",
       "      <th></th>\n",
       "      <th></th>\n",
       "      <th></th>\n",
       "      <th></th>\n",
       "      <th></th>\n",
       "      <th></th>\n",
       "      <th></th>\n",
       "    </tr>\n",
       "  </thead>\n",
       "  <tbody>\n",
       "    <tr>\n",
       "      <th>11</th>\n",
       "      <td>1</td>\n",
       "      <td>6427.136676</td>\n",
       "      <td>2</td>\n",
       "      <td>71</td>\n",
       "      <td>5</td>\n",
       "      <td>10</td>\n",
       "      <td>3</td>\n",
       "      <td>2</td>\n",
       "      <td>0</td>\n",
       "      <td>0</td>\n",
       "      <td>...</td>\n",
       "      <td>0</td>\n",
       "      <td>0</td>\n",
       "      <td>3</td>\n",
       "      <td>1</td>\n",
       "      <td>3</td>\n",
       "      <td>1</td>\n",
       "      <td>1</td>\n",
       "      <td>7</td>\n",
       "      <td>1</td>\n",
       "      <td>1</td>\n",
       "    </tr>\n",
       "    <tr>\n",
       "      <th>12</th>\n",
       "      <td>1</td>\n",
       "      <td>6428.350592</td>\n",
       "      <td>2</td>\n",
       "      <td>71</td>\n",
       "      <td>5</td>\n",
       "      <td>10</td>\n",
       "      <td>3</td>\n",
       "      <td>2</td>\n",
       "      <td>0</td>\n",
       "      <td>0</td>\n",
       "      <td>...</td>\n",
       "      <td>0</td>\n",
       "      <td>0</td>\n",
       "      <td>3</td>\n",
       "      <td>1</td>\n",
       "      <td>3</td>\n",
       "      <td>1</td>\n",
       "      <td>1</td>\n",
       "      <td>7</td>\n",
       "      <td>1</td>\n",
       "      <td>1</td>\n",
       "    </tr>\n",
       "    <tr>\n",
       "      <th>13</th>\n",
       "      <td>1</td>\n",
       "      <td>6414.477294</td>\n",
       "      <td>2</td>\n",
       "      <td>71</td>\n",
       "      <td>5</td>\n",
       "      <td>10</td>\n",
       "      <td>3</td>\n",
       "      <td>2</td>\n",
       "      <td>0</td>\n",
       "      <td>0</td>\n",
       "      <td>...</td>\n",
       "      <td>0</td>\n",
       "      <td>0</td>\n",
       "      <td>3</td>\n",
       "      <td>1</td>\n",
       "      <td>3</td>\n",
       "      <td>1</td>\n",
       "      <td>1</td>\n",
       "      <td>7</td>\n",
       "      <td>1</td>\n",
       "      <td>1</td>\n",
       "    </tr>\n",
       "    <tr>\n",
       "      <th>14</th>\n",
       "      <td>1</td>\n",
       "      <td>6428.487972</td>\n",
       "      <td>2</td>\n",
       "      <td>71</td>\n",
       "      <td>5</td>\n",
       "      <td>10</td>\n",
       "      <td>3</td>\n",
       "      <td>2</td>\n",
       "      <td>0</td>\n",
       "      <td>0</td>\n",
       "      <td>...</td>\n",
       "      <td>0</td>\n",
       "      <td>0</td>\n",
       "      <td>3</td>\n",
       "      <td>1</td>\n",
       "      <td>3</td>\n",
       "      <td>1</td>\n",
       "      <td>1</td>\n",
       "      <td>7</td>\n",
       "      <td>1</td>\n",
       "      <td>1</td>\n",
       "    </tr>\n",
       "    <tr>\n",
       "      <th>15</th>\n",
       "      <td>1</td>\n",
       "      <td>6425.256822</td>\n",
       "      <td>2</td>\n",
       "      <td>71</td>\n",
       "      <td>5</td>\n",
       "      <td>10</td>\n",
       "      <td>3</td>\n",
       "      <td>2</td>\n",
       "      <td>0</td>\n",
       "      <td>0</td>\n",
       "      <td>...</td>\n",
       "      <td>0</td>\n",
       "      <td>0</td>\n",
       "      <td>3</td>\n",
       "      <td>1</td>\n",
       "      <td>3</td>\n",
       "      <td>1</td>\n",
       "      <td>1</td>\n",
       "      <td>7</td>\n",
       "      <td>1</td>\n",
       "      <td>1</td>\n",
       "    </tr>\n",
       "  </tbody>\n",
       "</table>\n",
       "<p>5 rows × 347 columns</p>\n",
       "</div>"
      ],
      "text/plain": [
       "    YY1          wgt  hhsex  age  agecl  educ  edcl  married  kids  lf  \\\n",
       "Y1                                                                       \n",
       "11    1  6427.136676      2   71      5    10     3        2     0   0   \n",
       "12    1  6428.350592      2   71      5    10     3        2     0   0   \n",
       "13    1  6414.477294      2   71      5    10     3        2     0   0   \n",
       "14    1  6428.487972      2   71      5    10     3        2     0   0   \n",
       "15    1  6425.256822      2   71      5    10     3        2     0   0   \n",
       "\n",
       "        ...       LLOAN11  LLOAN12  nwcat  inccat  assetcat  ninccat  \\\n",
       "Y1      ...                                                            \n",
       "11      ...             0        0      3       1         3        1   \n",
       "12      ...             0        0      3       1         3        1   \n",
       "13      ...             0        0      3       1         3        1   \n",
       "14      ...             0        0      3       1         3        1   \n",
       "15      ...             0        0      3       1         3        1   \n",
       "\n",
       "    NINC2CAT  nwpctlecat  incpctlecat  nincpctlecat  \n",
       "Y1                                                   \n",
       "11         1           7            1             1  \n",
       "12         1           7            1             1  \n",
       "13         1           7            1             1  \n",
       "14         1           7            1             1  \n",
       "15         1           7            1             1  \n",
       "\n",
       "[5 rows x 347 columns]"
      ]
     },
     "metadata": {},
     "output_type": "display_data"
    }
   ],
   "source": [
    "# Load the survey data\n",
    "descriptor = 'http://datahub.io/quidproquo/2016-survey-of-consumer-finances-summary-extract/datapackage.json'\n",
    "df = load(descriptor)\n",
    "df.set_index('Y1', inplace=True)\n",
    "df.drop([df.columns[0]], axis=1, inplace=True)\n",
    "print(len(df))\n",
    "display(df.head())\n"
   ]
  },
  {
   "cell_type": "markdown",
   "metadata": {},
   "source": [
    "## U.S. Poverty Statistics\n",
    "\n",
    "Our first step is to determine the number of households living below the poverty line. To calculate this, we will use the income poverty thresholds based on the [2016 HHS Poverty Guidlines](https://aspe.hhs.gov/computations-2016-poverty-guidelines/) (full HHS history can be found by [clicking here](https://aspe.hhs.gov/prior-hhs-poverty-guidelines-and-federal-register-references)) and are as follows:"
   ]
  },
  {
   "cell_type": "code",
   "execution_count": 30,
   "metadata": {},
   "outputs": [
    {
     "data": {
      "text/html": [
       "<div>\n",
       "<style scoped>\n",
       "    .dataframe tbody tr th:only-of-type {\n",
       "        vertical-align: middle;\n",
       "    }\n",
       "\n",
       "    .dataframe tbody tr th {\n",
       "        vertical-align: top;\n",
       "    }\n",
       "\n",
       "    .dataframe thead th {\n",
       "        text-align: right;\n",
       "    }\n",
       "</style>\n",
       "<table border=\"1\" class=\"dataframe\">\n",
       "  <thead>\n",
       "    <tr style=\"text-align: right;\">\n",
       "      <th></th>\n",
       "      <th>income_poverty_level</th>\n",
       "    </tr>\n",
       "    <tr>\n",
       "      <th>household_size</th>\n",
       "      <th></th>\n",
       "    </tr>\n",
       "  </thead>\n",
       "  <tbody>\n",
       "    <tr>\n",
       "      <th>1</th>\n",
       "      <td>11880</td>\n",
       "    </tr>\n",
       "    <tr>\n",
       "      <th>2</th>\n",
       "      <td>16020</td>\n",
       "    </tr>\n",
       "    <tr>\n",
       "      <th>3</th>\n",
       "      <td>20160</td>\n",
       "    </tr>\n",
       "    <tr>\n",
       "      <th>4</th>\n",
       "      <td>24300</td>\n",
       "    </tr>\n",
       "    <tr>\n",
       "      <th>5</th>\n",
       "      <td>28440</td>\n",
       "    </tr>\n",
       "    <tr>\n",
       "      <th>6</th>\n",
       "      <td>32580</td>\n",
       "    </tr>\n",
       "    <tr>\n",
       "      <th>7</th>\n",
       "      <td>36730</td>\n",
       "    </tr>\n",
       "    <tr>\n",
       "      <th>8</th>\n",
       "      <td>40890</td>\n",
       "    </tr>\n",
       "  </tbody>\n",
       "</table>\n",
       "</div>"
      ],
      "text/plain": [
       "                income_poverty_level\n",
       "household_size                      \n",
       "1                              11880\n",
       "2                              16020\n",
       "3                              20160\n",
       "4                              24300\n",
       "5                              28440\n",
       "6                              32580\n",
       "7                              36730\n",
       "8                              40890"
      ]
     },
     "metadata": {},
     "output_type": "display_data"
    }
   ],
   "source": [
    "pldf = get_poverty_levels()\n",
    "display(pldf)"
   ]
  },
  {
   "cell_type": "markdown",
   "metadata": {},
   "source": [
    "Since the survey data doesn't contain a column for household size we need to calculate it from existing columns. In addition, the survey data contains a `wgt` column that is used to estimate the true size of the population of households."
   ]
  },
  {
   "cell_type": "code",
   "execution_count": 101,
   "metadata": {},
   "outputs": [
    {
     "data": {
      "text/markdown": [
       "U.S. households (survey): **126.0 million**"
      ],
      "text/plain": [
       "<IPython.core.display.Markdown object>"
      ]
     },
     "metadata": {},
     "output_type": "display_data"
    },
    {
     "data": {
      "text/markdown": [
       "U.S. households (census): **125.8 million**"
      ],
      "text/plain": [
       "<IPython.core.display.Markdown object>"
      ]
     },
     "metadata": {},
     "output_type": "display_data"
    },
    {
     "data": {
      "text/markdown": [
       "U.S. population (survey): **322.7 million**"
      ],
      "text/plain": [
       "<IPython.core.display.Markdown object>"
      ]
     },
     "metadata": {},
     "output_type": "display_data"
    },
    {
     "data": {
      "text/markdown": [
       "U.S. population (census): **323.1 million**"
      ],
      "text/plain": [
       "<IPython.core.display.Markdown object>"
      ]
     },
     "metadata": {},
     "output_type": "display_data"
    }
   ],
   "source": [
    "df['household_size'] = 1  # Default each family to one individual\n",
    "df.loc[df.married == 2, 'household_size'] += 1  # Add additional individual for married persons\n",
    "df['household_adults'] = df.household_size\n",
    "df.loc[df.age < 55, 'household_size'] += df.kids  # Only add childern where head of household is less than 55 yrs\n",
    "df['household_size_full'] = df.household_size\n",
    "df.loc[df.age >= 55, 'household_size_full'] += df.kids # Add back children for full household count\n",
    "\n",
    "us_pop = 323127513  # 2016 U.S. population (U.S. Census)\n",
    "us_hh = 125820000  # 2016 number of U.S. households (U.S. Census)\n",
    "\n",
    "us_pop_est = int((df.household_size_full * df.wgt * POP_WGT_FACTOR).sum())\n",
    "us_hh_est = int(df.wgt.sum())\n",
    "\n",
    "display_m('U.S. households (survey): **%s**' % h_format(us_hh_est))\n",
    "display_m('U.S. households (census): **%s**' % h_format(us_hh))\n",
    "display_m('U.S. population (survey): **%s**' % h_format(us_pop_est))\n",
    "display_m('U.S. population (census): **%s**' % h_format(us_pop))"
   ]
  },
  {
   "cell_type": "markdown",
   "metadata": {},
   "source": [
    "As we can see from above, the survey and the census counts are different by a small margin of error, which shows we are on the right track.\n",
    "\n",
    "Now that we have the poverty levels and the household sizes, we can join the dataframes and find all the households that are below the poverty line."
   ]
  },
  {
   "cell_type": "code",
   "execution_count": 103,
   "metadata": {},
   "outputs": [
    {
     "data": {
      "text/html": [
       "<div>\n",
       "<style scoped>\n",
       "    .dataframe tbody tr th:only-of-type {\n",
       "        vertical-align: middle;\n",
       "    }\n",
       "\n",
       "    .dataframe tbody tr th {\n",
       "        vertical-align: top;\n",
       "    }\n",
       "\n",
       "    .dataframe thead th {\n",
       "        text-align: right;\n",
       "    }\n",
       "</style>\n",
       "<table border=\"1\" class=\"dataframe\">\n",
       "  <thead>\n",
       "    <tr style=\"text-align: right;\">\n",
       "      <th></th>\n",
       "      <th>household_size</th>\n",
       "      <th>wgt</th>\n",
       "      <th>income</th>\n",
       "      <th>age</th>\n",
       "      <th>household_adults</th>\n",
       "      <th>income_poverty_level</th>\n",
       "    </tr>\n",
       "    <tr>\n",
       "      <th>Y1</th>\n",
       "      <th></th>\n",
       "      <th></th>\n",
       "      <th></th>\n",
       "      <th></th>\n",
       "      <th></th>\n",
       "      <th></th>\n",
       "    </tr>\n",
       "  </thead>\n",
       "  <tbody>\n",
       "    <tr>\n",
       "      <th>923</th>\n",
       "      <td>1.0</td>\n",
       "      <td>453.705373</td>\n",
       "      <td>0.0</td>\n",
       "      <td>76</td>\n",
       "      <td>1</td>\n",
       "      <td>11880</td>\n",
       "    </tr>\n",
       "    <tr>\n",
       "      <th>924</th>\n",
       "      <td>1.0</td>\n",
       "      <td>452.131876</td>\n",
       "      <td>0.0</td>\n",
       "      <td>76</td>\n",
       "      <td>1</td>\n",
       "      <td>11880</td>\n",
       "    </tr>\n",
       "    <tr>\n",
       "      <th>925</th>\n",
       "      <td>1.0</td>\n",
       "      <td>459.123915</td>\n",
       "      <td>0.0</td>\n",
       "      <td>76</td>\n",
       "      <td>1</td>\n",
       "      <td>11880</td>\n",
       "    </tr>\n",
       "    <tr>\n",
       "      <th>1411</th>\n",
       "      <td>1.0</td>\n",
       "      <td>231.806900</td>\n",
       "      <td>0.0</td>\n",
       "      <td>55</td>\n",
       "      <td>1</td>\n",
       "      <td>11880</td>\n",
       "    </tr>\n",
       "    <tr>\n",
       "      <th>1412</th>\n",
       "      <td>1.0</td>\n",
       "      <td>237.383646</td>\n",
       "      <td>0.0</td>\n",
       "      <td>55</td>\n",
       "      <td>1</td>\n",
       "      <td>11880</td>\n",
       "    </tr>\n",
       "  </tbody>\n",
       "</table>\n",
       "</div>"
      ],
      "text/plain": [
       "      household_size         wgt  income  age  household_adults  \\\n",
       "Y1                                                                \n",
       "923              1.0  453.705373     0.0   76                 1   \n",
       "924              1.0  452.131876     0.0   76                 1   \n",
       "925              1.0  459.123915     0.0   76                 1   \n",
       "1411             1.0  231.806900     0.0   55                 1   \n",
       "1412             1.0  237.383646     0.0   55                 1   \n",
       "\n",
       "      income_poverty_level  \n",
       "Y1                          \n",
       "923                  11880  \n",
       "924                  11880  \n",
       "925                  11880  \n",
       "1411                 11880  \n",
       "1412                 11880  "
      ]
     },
     "metadata": {},
     "output_type": "display_data"
    },
    {
     "data": {
      "text/markdown": [
       "U.S. households below the poverty line: **15.9 million (12.61%)**"
      ],
      "text/plain": [
       "<IPython.core.display.Markdown object>"
      ]
     },
     "metadata": {},
     "output_type": "display_data"
    },
    {
     "data": {
      "text/markdown": [
       "U.S. population below the poverty line: **48.3 million (14.98%)**"
      ],
      "text/plain": [
       "<IPython.core.display.Markdown object>"
      ]
     },
     "metadata": {},
     "output_type": "display_data"
    }
   ],
   "source": [
    "pvdf = df[['wgt', 'income', 'age', 'household_size', 'household_adults']].copy()\n",
    "pvdf['household_size'] = pvdf.household_size.clip(1, 8)\n",
    "pvdf.reset_index(inplace=True)\n",
    "pvdf.set_index('household_size', inplace=True)\n",
    "pvdf = pvdf.join(pldf, how='inner')\n",
    "pvdf = pvdf[pvdf.income < pvdf.income_poverty_level]\n",
    "pvdf.reset_index(inplace=True)\n",
    "pvdf.set_index('Y1', inplace=True)\n",
    "display(pvdf.head())\n",
    "\n",
    "pov_hh_est = int(pvdf.wgt.sum())\n",
    "pov_hh_pct = pov_hh_est/us_hh_est * 100\n",
    "\n",
    "pov_pop_est = int((pvdf.household_size * pvdf.wgt * POP_WGT_FACTOR).sum())\n",
    "pov_pop_pct = pov_pop_est/us_pop_est * 100\n",
    "\n",
    "ubd_tot = ((pvdf.income_poverty_level - pvdf.income) * pvdf.wgt).sum()\n",
    "ubd_hh = int(ubd_tot / pov_hh_est)\n",
    "\n",
    "display_m('U.S. households below the poverty line: **{} ({:.2f}%)**'.format(h_format(pov_hh_est), pov_hh_pct))\n",
    "display_m('U.S. population below the poverty line: **{} ({:.2f}%)**'.format(h_format(pov_pop_est), pov_pop_pct))\n"
   ]
  },
  {
   "cell_type": "markdown",
   "metadata": {},
   "source": [
    "## Eliminating Poverty in The U.S."
   ]
  },
  {
   "cell_type": "markdown",
   "metadata": {},
   "source": [
    "Now that we have obtained the set of households below the poverty line, we can calculate the total amount of supplemental income we would need to add to those households in order to bring them above the poverty line in a given year."
   ]
  },
  {
   "cell_type": "code",
   "execution_count": 117,
   "metadata": {},
   "outputs": [
    {
     "data": {
      "text/markdown": [
       "Total annual supplemental income: **$106.2 billion**"
      ],
      "text/plain": [
       "<IPython.core.display.Markdown object>"
      ]
     },
     "metadata": {},
     "output_type": "display_data"
    },
    {
     "data": {
      "text/markdown": [
       "Average annual supplemental income per household: **$6,689**"
      ],
      "text/plain": [
       "<IPython.core.display.Markdown object>"
      ]
     },
     "metadata": {},
     "output_type": "display_data"
    },
    {
     "data": {
      "text/markdown": [
       "Average annual supplemental income per adult: **$3,755**"
      ],
      "text/plain": [
       "<IPython.core.display.Markdown object>"
      ]
     },
     "metadata": {},
     "output_type": "display_data"
    }
   ],
   "source": [
    "pvdf['supplemental_income'] = pvdf.income_poverty_level - pvdf.income\n",
    "inc_tot = (pvdf.supplemental_income * pvdf.wgt).sum()\n",
    "inc_phh = int(inc_tot / pov_hh_est)\n",
    "inc_pha = int(((pvdf.supplemental_income / pvdf.household_adults) * pvdf.wgt).sum() / pvdf.wgt.sum())\n",
    "\n",
    "display_m('Total annual supplemental income: **$%s**' % h_format(inc_tot))\n",
    "display_m('Average annual supplemental income per household: **$%s**' % h_format(inc_phh))\n",
    "display_m('Average annual supplemental income per adult: **$%s**' % h_format(inc_pha))"
   ]
  },
  {
   "cell_type": "markdown",
   "metadata": {},
   "source": [
    "Now that we know the scope of the problem, we can calculate the optimal size of the a U.S. social wealth fund if our policy goal were to eliminate poverty. Here we will assume that the fund has a rate of return of **5%**."
   ]
  },
  {
   "cell_type": "code",
   "execution_count": 124,
   "metadata": {},
   "outputs": [
    {
     "data": {
      "text/markdown": [
       "Fund size: **$2.1 trillion**"
      ],
      "text/plain": [
       "<IPython.core.display.Markdown object>"
      ]
     },
     "metadata": {},
     "output_type": "display_data"
    }
   ],
   "source": [
    "r_rate = 0.05  # Rate of return for the fund\n",
    "fund_size = inc_tot / r_rate\n",
    "\n",
    "display_m('Fund size: **$%s**' % h_format(fund_size))"
   ]
  },
  {
   "cell_type": "markdown",
   "metadata": {},
   "source": [
    "## Implementing a Universal Basic Dividend\n",
    "\n",
    "Up to this point we've just considered the optimal size of a U.S. social wealth fund with the primary goal of eliminating poverty. Next, we want to consider the size of such a fund if we were to give every working age adult in the U.S. a universal basic dividend (UBD) that is on par with the annual supplemental income we calculated earlier. According to the [2016 U.S. Census](https://factfinder.census.gov/faces/tableservices/jsf/pages/productview.xhtml?pid=PEP_2016_PEPAGESEX&prodType=table), there were **249,485,228** people aged 18 and older."
   ]
  },
  {
   "cell_type": "code",
   "execution_count": 125,
   "metadata": {},
   "outputs": [
    {
     "data": {
      "text/markdown": [
       "Total annual UBD: **$936.8 billion**"
      ],
      "text/plain": [
       "<IPython.core.display.Markdown object>"
      ]
     },
     "metadata": {},
     "output_type": "display_data"
    },
    {
     "data": {
      "text/markdown": [
       "Fund size: **$18.7 trillion**"
      ],
      "text/plain": [
       "<IPython.core.display.Markdown object>"
      ]
     },
     "metadata": {},
     "output_type": "display_data"
    }
   ],
   "source": [
    "pop_adult = 249485228\n",
    "tot_ubd = inc_pha * pop_adult\n",
    "fund_size_ubd = tot_ubd / r_rate\n",
    "\n",
    "display_m('Total annual UBD: **$%s**' % h_format(tot_ubd))\n",
    "display_m('Fund size: **$%s**' % h_format(fund_size_ubd))"
   ]
  },
  {
   "cell_type": "markdown",
   "metadata": {},
   "source": [
    "## International Comparisons\n",
    "\n",
    "We see, from the above calculation, that in order to support our policy goal of paying out a UBD that has the potential to end poverty in the U.S., we would need a social wealth fund that is absolutely enormous. While the size that the fund would need to be may seem hopelessly out of reach, we should really take into account the massive scale of the U.S. economy. To do this, we will take Norway and its soverign wealth fund and attempt to make an apples-to-apples comparison with our hypothetical U.S. social wealth fund.\n",
    "\n",
    "First let's get some stats on Norway and its [wealth fund](https://en.wikipedia.org/wiki/List_of_countries_by_sovereign_wealth_funds):"
   ]
  },
  {
   "cell_type": "code",
   "execution_count": 135,
   "metadata": {},
   "outputs": [
    {
     "data": {
      "text/markdown": [
       "Norway population: **5.2 million**"
      ],
      "text/plain": [
       "<IPython.core.display.Markdown object>"
      ]
     },
     "metadata": {},
     "output_type": "display_data"
    },
    {
     "data": {
      "text/markdown": [
       "Norway GDP: **$370.6 billion**"
      ],
      "text/plain": [
       "<IPython.core.display.Markdown object>"
      ]
     },
     "metadata": {},
     "output_type": "display_data"
    },
    {
     "data": {
      "text/markdown": [
       "Norway fund size: **$1.1 trillion**"
      ],
      "text/plain": [
       "<IPython.core.display.Markdown object>"
      ]
     },
     "metadata": {},
     "output_type": "display_data"
    },
    {
     "data": {
      "text/markdown": [
       "Norway per-capita GDP: **$70,819**"
      ],
      "text/plain": [
       "<IPython.core.display.Markdown object>"
      ]
     },
     "metadata": {},
     "output_type": "display_data"
    },
    {
     "data": {
      "text/markdown": [
       "Norway per-capita fund share: **$203,133**"
      ],
      "text/plain": [
       "<IPython.core.display.Markdown object>"
      ]
     },
     "metadata": {},
     "output_type": "display_data"
    }
   ],
   "source": [
    "no_pop = 5.233e6\n",
    "no_gdp = 370.6e9\n",
    "no_fund_size = 1.063e12\n",
    "\n",
    "no_pc_gdp = int(no_gdp / no_pop)\n",
    "no_pc_fund_share = int(no_fund_size / no_pop)\n",
    "\n",
    "display_m('Norway population: **%s**' % h_format(no_pop))\n",
    "display_m('Norway GDP: **$%s**' % h_format(no_gdp))\n",
    "display_m('Norway fund size: **$%s**' % h_format(no_fund_size))\n",
    "display_m('Norway per-capita GDP: **$%s**' % h_format(no_pc_gdp))\n",
    "display_m('Norway per-capita fund share: **$%s**' % h_format(no_pc_fund_share))"
   ]
  },
  {
   "cell_type": "markdown",
   "metadata": {},
   "source": [
    "And some stats on the U.S.:"
   ]
  },
  {
   "cell_type": "code",
   "execution_count": 136,
   "metadata": {},
   "outputs": [
    {
     "data": {
      "text/markdown": [
       "U.S. population: **323.1 million**"
      ],
      "text/plain": [
       "<IPython.core.display.Markdown object>"
      ]
     },
     "metadata": {},
     "output_type": "display_data"
    },
    {
     "data": {
      "text/markdown": [
       "U.S. GDP: **$18.6 trillion**"
      ],
      "text/plain": [
       "<IPython.core.display.Markdown object>"
      ]
     },
     "metadata": {},
     "output_type": "display_data"
    },
    {
     "data": {
      "text/markdown": [
       "U.S. per-capita GDP: **$57,469**"
      ],
      "text/plain": [
       "<IPython.core.display.Markdown object>"
      ]
     },
     "metadata": {},
     "output_type": "display_data"
    }
   ],
   "source": [
    "us_gdp = 18.57e12\n",
    "\n",
    "us_pc_gdp = int(us_gdp / us_pop)\n",
    "\n",
    "display_m('U.S. population: **%s**' % h_format(us_pop))\n",
    "display_m('U.S. GDP: **$%s**' % h_format(us_gdp))\n",
    "display_m('U.S. per-capita GDP: **$%s**' % h_format(us_pc_gdp))"
   ]
  },
  {
   "cell_type": "markdown",
   "metadata": {},
   "source": [
    "### Fund Size vs. GDP\n",
    "\n",
    "Let's assume for simplicity's sake we can say that the size of a country's social wealth fund is related to its GDP. Using Norway, we get:"
   ]
  },
  {
   "cell_type": "code",
   "execution_count": 138,
   "metadata": {},
   "outputs": [
    {
     "data": {
      "text/markdown": [
       "Fund-to-GDP ratio: **2.8683216405828387**"
      ],
      "text/plain": [
       "<IPython.core.display.Markdown object>"
      ]
     },
     "metadata": {},
     "output_type": "display_data"
    }
   ],
   "source": [
    "fund_gdp_ratio = no_fund_size / no_gdp\n",
    "\n",
    "display_m('Fund-to-GDP ratio: **%s**' % fund_gdp_ratio)"
   ]
  },
  {
   "cell_type": "markdown",
   "metadata": {},
   "source": [
    "For the U.S., this would give us a fund size of:"
   ]
  },
  {
   "cell_type": "code",
   "execution_count": 146,
   "metadata": {},
   "outputs": [
    {
     "data": {
      "text/markdown": [
       "U.S. fund size: **$53.3 trillion**"
      ],
      "text/plain": [
       "<IPython.core.display.Markdown object>"
      ]
     },
     "metadata": {},
     "output_type": "display_data"
    },
    {
     "data": {
      "text/markdown": [
       "U.S. per-capita fund share: **$164,841**"
      ],
      "text/plain": [
       "<IPython.core.display.Markdown object>"
      ]
     },
     "metadata": {},
     "output_type": "display_data"
    },
    {
     "data": {
      "text/markdown": [
       "U.S. total annual UBD: **$2.7 trillion**"
      ],
      "text/plain": [
       "<IPython.core.display.Markdown object>"
      ]
     },
     "metadata": {},
     "output_type": "display_data"
    },
    {
     "data": {
      "text/markdown": [
       "U.S. annual per-adult UBD: **$10,674**"
      ],
      "text/plain": [
       "<IPython.core.display.Markdown object>"
      ]
     },
     "metadata": {},
     "output_type": "display_data"
    }
   ],
   "source": [
    "us_fund_size = fund_gdp_ratio * us_gdp\n",
    "\n",
    "us_pc_fund_share = int(us_fund_size / us_pop)\n",
    "us_tot_ubd = r_rate * us_fund_size\n",
    "us_pc_ubd = int(us_tot_ubd / pop_adult)\n",
    "\n",
    "display_m('U.S. fund size: **$%s**' % h_format(us_fund_size))\n",
    "display_m('U.S. per-capita fund share: **$%s**' % h_format(us_pc_fund_share))\n",
    "display_m('U.S. total annual UBD: **$%s**' % h_format(us_tot_ubd))\n",
    "display_m('U.S. annual per-adult UBD: **$%s**' % h_format(us_pc_ubd))"
   ]
  },
  {
   "cell_type": "markdown",
   "metadata": {},
   "source": [
    "### Fund Size vs. Net National Wealth\n",
    "\n",
    "This number is quite large, but one has to take into account that the total household wealth in the U.S. is also quite large. Let's now compare the size of Norway's fund with the [amount of private wealth held by Norway's citizens](https://www.ssb.no/en/inntekt-og-forbruk/statistikker/ifhus/aar/2016-12-16)."
   ]
  },
  {
   "cell_type": "code",
   "execution_count": 161,
   "metadata": {},
   "outputs": [
    {
     "data": {
      "text/markdown": [
       "Norway houshold net wealth: **$694.4 billion**"
      ],
      "text/plain": [
       "<IPython.core.display.Markdown object>"
      ]
     },
     "metadata": {},
     "output_type": "display_data"
    },
    {
     "data": {
      "text/markdown": [
       "Norway total net wealth: **$1.8 trillion**"
      ],
      "text/plain": [
       "<IPython.core.display.Markdown object>"
      ]
     },
     "metadata": {},
     "output_type": "display_data"
    },
    {
     "data": {
      "text/markdown": [
       "Norway fund-to-wealth percent: **60.49%**"
      ],
      "text/plain": [
       "<IPython.core.display.Markdown object>"
      ]
     },
     "metadata": {},
     "output_type": "display_data"
    }
   ],
   "source": [
    "no_hh_net_wealth = 694.37e9\n",
    "no_tot_net_wealth = no_hh_net_wealth + no_fund_size\n",
    "no_fund_wealth_percent = no_fund_size / no_tot_net_wealth * 100\n",
    "\n",
    "display_m('Norway houshold net wealth: **$%s**' % h_format(no_hh_net_wealth))\n",
    "display_m('Norway total net wealth: **$%s**' % h_format(no_tot_net_wealth))\n",
    "display_m('Norway fund-to-wealth percent: **{:.2f}%**'.format(no_fund_wealth_percent))"
   ]
  },
  {
   "cell_type": "markdown",
   "metadata": {},
   "source": [
    "As we can see from the above calculation, Norway holds the majority of its nations wealth in its wealth fund. Let's compare this with a hypothetical U.S. social wealth fund with the same fund-to-wealth ratio as Norway. Since the U.S. does not have a similar fund, we will just use total household net worth as a proxy for total net wealth."
   ]
  },
  {
   "cell_type": "code",
   "execution_count": 163,
   "metadata": {},
   "outputs": [
    {
     "data": {
      "text/markdown": [
       "U.S. total net wealth: **$86.9 trillion**"
      ],
      "text/plain": [
       "<IPython.core.display.Markdown object>"
      ]
     },
     "metadata": {},
     "output_type": "display_data"
    },
    {
     "data": {
      "text/markdown": [
       "U.S. fund size: **$52.5 trillion**"
      ],
      "text/plain": [
       "<IPython.core.display.Markdown object>"
      ]
     },
     "metadata": {},
     "output_type": "display_data"
    }
   ],
   "source": [
    "us_tot_net_wealth = (df.wgt * df.networth).sum()\n",
    "us_fund_size_wp = (no_fund_wealth_percent / 100) * us_tot_net_wealth\n",
    "\n",
    "display_m('U.S. total net wealth: **$%s**' % h_format(us_tot_net_wealth))\n",
    "display_m('U.S. fund size: **$%s**' % h_format(us_fund_size_wp))"
   ]
  },
  {
   "cell_type": "markdown",
   "metadata": {},
   "source": [
    "It appears that using either method to determine fund size, whether using a multiple of GDP or a percentage of total net wealth, we come up with roughly the same values."
   ]
  },
  {
   "cell_type": "code",
   "execution_count": null,
   "metadata": {},
   "outputs": [],
   "source": []
  }
 ],
 "metadata": {
  "kernelspec": {
   "display_name": "Python 3",
   "language": "python",
   "name": "python3"
  },
  "language_info": {
   "codemirror_mode": {
    "name": "ipython",
    "version": 3
   },
   "file_extension": ".py",
   "mimetype": "text/x-python",
   "name": "python",
   "nbconvert_exporter": "python",
   "pygments_lexer": "ipython3",
   "version": "3.5.0"
  }
 },
 "nbformat": 4,
 "nbformat_minor": 1
}
